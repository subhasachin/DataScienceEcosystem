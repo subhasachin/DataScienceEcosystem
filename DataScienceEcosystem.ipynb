{
  "metadata": {
    "kernelspec": {
      "name": "python",
      "display_name": "Python (Pyodide)",
      "language": "python"
    },
    "language_info": {
      "codemirror_mode": {
        "name": "python",
        "version": 3
      },
      "file_extension": ".py",
      "mimetype": "text/x-python",
      "name": "python",
      "nbconvert_exporter": "python",
      "pygments_lexer": "ipython3",
      "version": "3.8"
    }
  },
  "nbformat_minor": 4,
  "nbformat": 4,
  "cells": [
    {
      "cell_type": "markdown",
      "source": "# Data Science Tools and Ecosystem",
      "metadata": {}
    },
    {
      "cell_type": "markdown",
      "source": "### In this notebook, Data Science Tools and Ecosystem are summarized.\n**Objectives:**\n*We will have a look of the Data Science tools and Ecosystems*  \n**List popular languages for Data Science**\n* Python\n* SQL\n* R\n* Julia\n* ScalaR.",
      "metadata": {}
    },
    {
      "cell_type": "markdown",
      "source": "**Some of the popular languages that Data Scientists use are:**\n1. Python\n2. Julia\n3. Scala\n4. SQL",
      "metadata": {}
    },
    {
      "cell_type": "markdown",
      "source": "**Some of the commonly used libraries used by Data Scientists include:**\n1. Numpy\n2. Keras\n3. Pandas\n4. Scipy\n5. Tensorflow\n6. Matplotlib\n7. Scikit-Learn",
      "metadata": {}
    },
    {
      "cell_type": "markdown",
      "source": "**Table that contains Open Source Data Science Tools**\n|Data Science Tools|\n|---|\n|Jupyter Notebook|\n|RStudio|\n|Tensorflow|\n|Apache Spark|",
      "metadata": {}
    },
    {
      "cell_type": "markdown",
      "source": "### Below are a few examples of evaluating arithmetic expressions in Python",
      "metadata": {}
    },
    {
      "cell_type": "raw",
      "source": "(3*4)+5",
      "metadata": {}
    },
    {
      "cell_type": "markdown",
      "source": "**This is a simple arithmetic expression to mutiply then add integers**",
      "metadata": {}
    },
    {
      "cell_type": "code",
      "source": "(3*4)+5",
      "metadata": {
        "trusted": true
      },
      "outputs": [
        {
          "execution_count": 12,
          "output_type": "execute_result",
          "data": {
            "text/plain": "17"
          },
          "metadata": {}
        }
      ],
      "execution_count": 12
    },
    {
      "cell_type": "raw",
      "source": "200 Minutes in Hours",
      "metadata": {}
    },
    {
      "cell_type": "markdown",
      "source": "**This will convert 200 minutes to hours by diving by 60**",
      "metadata": {}
    },
    {
      "cell_type": "code",
      "source": "min=int(200)\nh=min//60\nm=min%60\nprint(h,\"Hours\", m,\"Minutes\")",
      "metadata": {
        "trusted": true
      },
      "outputs": [
        {
          "name": "stdout",
          "text": "3 Hours 20 Minutes\n",
          "output_type": "stream"
        }
      ],
      "execution_count": 21
    },
    {
      "cell_type": "markdown",
      "source": "## Author",
      "metadata": {}
    },
    {
      "cell_type": "raw",
      "source": "Subhajit Mondal",
      "metadata": {}
    },
    {
      "cell_type": "code",
      "source": "",
      "metadata": {
        "trusted": true
      },
      "outputs": [],
      "execution_count": null
    }
  ]
}